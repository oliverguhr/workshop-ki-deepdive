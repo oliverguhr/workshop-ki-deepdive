{
 "cells": [
  {
   "cell_type": "code",
   "execution_count": null,
   "metadata": {},
   "outputs": [],
   "source": [
    "!pip install sentence-transformers datasets torch transformers accelerate"
   ]
  },
  {
   "cell_type": "code",
   "execution_count": null,
   "metadata": {},
   "outputs": [],
   "source": [
    "from datasets import load_dataset\n",
    "\n",
    "def load_nq_german(data_file = \"./data/ng_german.jsonl.gz\"):\n",
    "    # Load the JSONL file as a dataset\n",
    "    dataset = (\n",
    "        load_dataset(\"json\", data_files=data_file, split=\"train\",num_proc=8)\n",
    "        .remove_columns([\"query\", \"answer\"])\n",
    "        .rename_column(\"question_de\", \"query\")\n",
    "        .rename_column(\"answer_de\", \"answer\")\n",
    "    )\n",
    "    dataset_dict = dataset.train_test_split(test_size=1_000, seed=12)\n",
    "    return dataset_dict\n"
   ]
  },
  {
   "cell_type": "code",
   "execution_count": null,
   "metadata": {},
   "outputs": [],
   "source": [
    "import logging\n",
    "import random\n",
    "\n",
    "import numpy\n",
    "import torch\n",
    "#from torch import mps  # noqa: F401\n",
    "#torch.mps.device = mps\n",
    "from datasets import Dataset\n",
    "\n",
    "from sentence_transformers import (\n",
    "    SentenceTransformer,\n",
    "    SentenceTransformerModelCardData,\n",
    "    SentenceTransformerTrainer,\n",
    "    SentenceTransformerTrainingArguments,\n",
    ")\n",
    "from sentence_transformers.losses import MultipleNegativesRankingLoss, CachedMultipleNegativesRankingLoss\n",
    "from sentence_transformers.training_args import BatchSamplers"
   ]
  },
  {
   "cell_type": "code",
   "execution_count": null,
   "metadata": {},
   "outputs": [],
   "source": [
    "logging.basicConfig(format=\"%(asctime)s - %(message)s\", datefmt=\"%Y-%m-%d %H:%M:%S\", level=logging.INFO)\n",
    "random.seed(12)\n",
    "torch.manual_seed(12)\n",
    "numpy.random.seed(12)"
   ]
  },
  {
   "cell_type": "code",
   "execution_count": null,
   "metadata": {},
   "outputs": [],
   "source": [
    "# Feel free to adjust these variables:\n",
    "use_prompts = True\n",
    "include_prompts_in_pooling = True\n",
    "\n",
    "# 1. Load a model to finetune with 2. (Optional) model card data\n",
    "base_model_name = \"sentence-transformers/paraphrase-multilingual-mpnet-base-v2\""
   ]
  },
  {
   "cell_type": "code",
   "execution_count": null,
   "metadata": {},
   "outputs": [],
   "source": [
    "model = SentenceTransformer(\n",
    "    base_model_name,\n",
    "    #tokenizer_kwargs={\"max_seq_length\": 512},\n",
    "    model_card_data=SentenceTransformerModelCardData(\n",
    "        language=\"de\",\n",
    "        license=\"apache-2.0\",\n",
    "        model_name=f\"{base_model_name} trained on german Natural Questions pairs\",\n",
    "    ),\n",
    ").to(torch.bfloat16)"
   ]
  },
  {
   "cell_type": "code",
   "execution_count": null,
   "metadata": {},
   "outputs": [],
   "source": [
    "model.set_pooling_include_prompt(include_prompts_in_pooling)"
   ]
  },
  {
   "cell_type": "code",
   "execution_count": null,
   "metadata": {},
   "outputs": [],
   "source": [
    "# 2. (Optional) Define prompts\n",
    "if use_prompts:\n",
    "    query_prompt = \"query: \"\n",
    "    corpus_prompt = \"document: \"\n",
    "    prompts = {\n",
    "        \"query\": query_prompt,\n",
    "        \"answer\": corpus_prompt,\n",
    "    }"
   ]
  },
  {
   "cell_type": "code",
   "execution_count": null,
   "metadata": {},
   "outputs": [],
   "source": [
    "# 3. Load a dataset to finetune on\n",
    "dataset_dict = load_nq_german()\n",
    "train_dataset: Dataset = dataset_dict[\"train\"]\n",
    "eval_dataset: Dataset = dataset_dict[\"test\"]"
   ]
  },
  {
   "cell_type": "code",
   "execution_count": null,
   "metadata": {},
   "outputs": [],
   "source": [
    "# 4. Define a loss function\n",
    "loss = CachedMultipleNegativesRankingLoss(model, mini_batch_size=16) \n",
    "#loss = MultipleNegativesRankingLoss(model) # <- this does work with mps (Apple Silicon)\n"
   ]
  },
  {
   "cell_type": "code",
   "execution_count": null,
   "metadata": {},
   "outputs": [],
   "source": [
    "# 5. (Optional) Specify training arguments\n",
    "run_name = \"nq-german-\" + base_model_name.split(\"/\")[-1]\n",
    "if use_prompts:\n",
    "    run_name += \"-prompts\"\n",
    "if not include_prompts_in_pooling:\n",
    "    run_name += \"-exclude-pooling-prompts\"\n",
    "args = SentenceTransformerTrainingArguments(\n",
    "    # Required parameter:\n",
    "    output_dir=f\"models/{run_name}\",\n",
    "    # Optional training parameters:\n",
    "    num_train_epochs=3,\n",
    "    per_device_train_batch_size=8,\n",
    "    per_device_eval_batch_size=8,\n",
    "    gradient_accumulation_steps=4,\n",
    "    learning_rate=4e-5,\n",
    "    warmup_ratio=0.1,\n",
    "    fp16=False,  # Set to False if you get an error that your GPU can't run on FP16\n",
    "    bf16=True,  # Set to True if you have a GPU that supports BF16\n",
    "    batch_sampler=BatchSamplers.NO_DUPLICATES,  # MultipleNegativesRankingLoss benefits from no duplicate samples in a batch\n",
    "    # Optional tracking/debugging parameters:\n",
    "    eval_strategy=\"steps\",\n",
    "    eval_steps=0.5,\n",
    "    save_strategy=\"steps\",\n",
    "    save_steps=0.5,\n",
    "    save_total_limit=2,\n",
    "    logging_steps=5,\n",
    "    logging_first_step=True,\n",
    "    run_name=run_name,  # Will be used in W&B if `wandb` is installed\n",
    "    seed=12,\n",
    "    prompts=prompts if use_prompts else None,\n",
    ")"
   ]
  },
  {
   "cell_type": "code",
   "execution_count": null,
   "metadata": {},
   "outputs": [],
   "source": [
    "# 7. Create a trainer & train\n",
    "trainer = SentenceTransformerTrainer(\n",
    "    model=model,\n",
    "    args=args,\n",
    "    train_dataset=train_dataset,\n",
    "    eval_dataset=eval_dataset,\n",
    "    loss=loss,\n",
    "    #evaluator=dev_evaluator,\n",
    ")\n",
    "trainer.train()"
   ]
  },
  {
   "cell_type": "code",
   "execution_count": null,
   "metadata": {},
   "outputs": [],
   "source": [
    "# 8. Save the trained model\n",
    "model.save_pretrained(f\"models/{run_name}/final\")"
   ]
  }
 ],
 "metadata": {
  "kernelspec": {
   "display_name": ".venv",
   "language": "python",
   "name": "python3"
  },
  "language_info": {
   "codemirror_mode": {
    "name": "ipython",
    "version": 3
   },
   "file_extension": ".py",
   "mimetype": "text/x-python",
   "name": "python",
   "nbconvert_exporter": "python",
   "pygments_lexer": "ipython3",
   "version": "3.13.2"
  }
 },
 "nbformat": 4,
 "nbformat_minor": 2
}
