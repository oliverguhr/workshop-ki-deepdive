{
 "cells": [
  {
   "cell_type": "code",
   "execution_count": null,
   "metadata": {},
   "outputs": [],
   "source": [
    "!pip install torchvision lightning tensorboard"
   ]
  },
  {
   "cell_type": "code",
   "execution_count": null,
   "metadata": {},
   "outputs": [],
   "source": [
    "import torch\n",
    "import torch.nn.functional as F\n",
    "from torch.utils.data import DataLoader\n",
    "from torchvision.datasets import MNIST\n",
    "from torchvision import transforms\n",
    "import lightning as L\n",
    "import torch.nn.functional as F\n",
    "\n",
    "class MNISTModel(L.LightningModule):\n",
    "    def __init__(self):\n",
    "        super().__init__()\n",
    "        # Model architecture using nn.Linear\n",
    "        self.linear = torch.nn.Linear(28*28, 10)\n",
    "        self.learning_rate = 0.1\n",
    "    \n",
    "    def forward(self, x):\n",
    "        # Forward pass using the defined linear layer\n",
    "        x = x.flatten(start_dim=1)        \n",
    "        return self.linear(x)\n",
    "    \n",
    "    def training_step(self, batch, batch_idx):\n",
    "        # Training logic\n",
    "        X, y = batch\n",
    "        output = self(X)\n",
    "        loss = F.cross_entropy(output, y)\n",
    "        self.log('train_loss', loss)\n",
    "        return loss\n",
    "    \n",
    "    def validation_step(self, batch, batch_idx):\n",
    "        # Validation logic\n",
    "        X, y = batch\n",
    "        output = self(X)\n",
    "        loss = F.cross_entropy(output, y)\n",
    "        acc = accuracy(output, y)\n",
    "        self.log('val_loss', loss)\n",
    "        self.log('val_acc', acc)\n",
    "        return {'loss': loss, 'accuracy': acc}\n",
    "    \n",
    "    def configure_optimizers(self):\n",
    "        # Configure optimizer\n",
    "        optimizer = torch.optim.SGD(self.linear.parameters(), lr=self.learning_rate)\n",
    "        return optimizer\n",
    "\n",
    "def accuracy(output, label):\n",
    "    # Accuracy calculation\n",
    "    return (output.argmax(1) == label).float().mean()\n",
    "\n",
    "# Data setup\n",
    "\n",
    "transform = transforms.Compose([\n",
    "    transforms.ToTensor()\n",
    "    ])\n",
    "\n",
    "dataset = MNIST(root='./data', train=True, \n",
    "                            download=True, transform=transform)\n",
    "train_loader = DataLoader(dataset, batch_size=32, shuffle=True)\n",
    "\n",
    "val_dataset = MNIST(root='./data', train=False, \n",
    "                            download=True, transform=transform)\n",
    "val_loader = DataLoader(val_dataset, batch_size=32, shuffle=False)\n",
    "\n",
    "# Model, Trainer and Training\n",
    "model = MNISTModel()\n",
    "trainer = L.Trainer(max_epochs=1, log_every_n_steps=10, val_check_interval = 500, accelerator=\"gpu\")\n",
    "trainer.fit(model, train_loader, val_loader)\n"
   ]
  },
  {
   "cell_type": "code",
   "execution_count": null,
   "metadata": {},
   "outputs": [],
   "source": [
    "trainer.validate(model,val_loader)"
   ]
  },
  {
   "cell_type": "markdown",
   "metadata": {},
   "source": [
    "## Wie können wir das Ergebniss verbessern?\n",
    "\n",
    "* Länger Tranieren (mehr epochen)\n",
    "* Sinvollere Lernrate (ausprobieren!)\n",
    "* Größeres Netz (mehr Schichten)\n",
    "* Aktivierungsfunktionen (zwischen den Schichten!)\n",
    "* Normalisierung (Batch, Layer, Input)\n",
    "* Dropout\n",
    "* SGD mit Momentum\n",
    "* Adam Optimizer\n",
    "* Data Augmentation\n",
    "* ChatGPT Fragen :)"
   ]
  },
  {
   "cell_type": "code",
   "execution_count": null,
   "metadata": {},
   "outputs": [],
   "source": [
    "%load_ext tensorboard\n",
    "%tensorboard --logdir ./lightning_logs"
   ]
  }
 ],
 "metadata": {
  "kernelspec": {
   "display_name": "Python 3",
   "language": "python",
   "name": "python3"
  },
  "language_info": {
   "codemirror_mode": {
    "name": "ipython",
    "version": 3
   },
   "file_extension": ".py",
   "mimetype": "text/x-python",
   "name": "python",
   "nbconvert_exporter": "python",
   "pygments_lexer": "ipython3",
   "version": "3.10.12"
  }
 },
 "nbformat": 4,
 "nbformat_minor": 2
}
