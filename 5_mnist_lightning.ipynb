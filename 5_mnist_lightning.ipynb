{
 "cells": [
  {
   "cell_type": "code",
   "execution_count": 5,
   "metadata": {},
   "outputs": [
    {
     "name": "stdout",
     "output_type": "stream",
     "text": [
      "Defaulting to user installation because normal site-packages is not writeable\n",
      "Requirement already satisfied: torchvision in /home/openai/.local/lib/python3.10/site-packages (0.18.0)\n",
      "Requirement already satisfied: lightning in /home/openai/.local/lib/python3.10/site-packages (2.2.5)\n",
      "Requirement already satisfied: tensorboard in /home/openai/.local/lib/python3.10/site-packages (2.16.2)\n",
      "Requirement already satisfied: numpy in /home/openai/.local/lib/python3.10/site-packages (from torchvision) (1.26.4)\n",
      "Requirement already satisfied: pillow!=8.3.*,>=5.3.0 in /home/openai/.local/lib/python3.10/site-packages (from torchvision) (10.3.0)\n",
      "Requirement already satisfied: torch==2.3.0 in /home/openai/.local/lib/python3.10/site-packages (from torchvision) (2.3.0)\n",
      "Requirement already satisfied: fsspec in /home/openai/.local/lib/python3.10/site-packages (from torch==2.3.0->torchvision) (2024.3.1)\n",
      "Requirement already satisfied: nvidia-curand-cu12==10.3.2.106 in /home/openai/.local/lib/python3.10/site-packages (from torch==2.3.0->torchvision) (10.3.2.106)\n",
      "Requirement already satisfied: nvidia-cuda-runtime-cu12==12.1.105 in /home/openai/.local/lib/python3.10/site-packages (from torch==2.3.0->torchvision) (12.1.105)\n",
      "Requirement already satisfied: typing-extensions>=4.8.0 in /home/openai/.local/lib/python3.10/site-packages (from torch==2.3.0->torchvision) (4.12.1)\n",
      "Requirement already satisfied: nvidia-nccl-cu12==2.20.5 in /home/openai/.local/lib/python3.10/site-packages (from torch==2.3.0->torchvision) (2.20.5)\n",
      "Requirement already satisfied: jinja2 in /usr/lib/python3/dist-packages (from torch==2.3.0->torchvision) (3.0.3)\n",
      "Requirement already satisfied: nvidia-cufft-cu12==11.0.2.54 in /home/openai/.local/lib/python3.10/site-packages (from torch==2.3.0->torchvision) (11.0.2.54)\n",
      "Requirement already satisfied: filelock in /home/openai/.local/lib/python3.10/site-packages (from torch==2.3.0->torchvision) (3.14.0)\n",
      "Requirement already satisfied: networkx in /home/openai/.local/lib/python3.10/site-packages (from torch==2.3.0->torchvision) (3.3)\n",
      "Requirement already satisfied: nvidia-cuda-cupti-cu12==12.1.105 in /home/openai/.local/lib/python3.10/site-packages (from torch==2.3.0->torchvision) (12.1.105)\n",
      "Requirement already satisfied: nvidia-cudnn-cu12==8.9.2.26 in /home/openai/.local/lib/python3.10/site-packages (from torch==2.3.0->torchvision) (8.9.2.26)\n",
      "Requirement already satisfied: nvidia-cusolver-cu12==11.4.5.107 in /home/openai/.local/lib/python3.10/site-packages (from torch==2.3.0->torchvision) (11.4.5.107)\n",
      "Requirement already satisfied: sympy in /home/openai/.local/lib/python3.10/site-packages (from torch==2.3.0->torchvision) (1.12.1)\n",
      "Requirement already satisfied: nvidia-cuda-nvrtc-cu12==12.1.105 in /home/openai/.local/lib/python3.10/site-packages (from torch==2.3.0->torchvision) (12.1.105)\n",
      "Requirement already satisfied: nvidia-cublas-cu12==12.1.3.1 in /home/openai/.local/lib/python3.10/site-packages (from torch==2.3.0->torchvision) (12.1.3.1)\n",
      "Requirement already satisfied: nvidia-cusparse-cu12==12.1.0.106 in /home/openai/.local/lib/python3.10/site-packages (from torch==2.3.0->torchvision) (12.1.0.106)\n",
      "Requirement already satisfied: triton==2.3.0 in /home/openai/.local/lib/python3.10/site-packages (from torch==2.3.0->torchvision) (2.3.0)\n",
      "Requirement already satisfied: nvidia-nvtx-cu12==12.1.105 in /home/openai/.local/lib/python3.10/site-packages (from torch==2.3.0->torchvision) (12.1.105)\n",
      "Requirement already satisfied: nvidia-nvjitlink-cu12 in /home/openai/.local/lib/python3.10/site-packages (from nvidia-cusolver-cu12==11.4.5.107->torch==2.3.0->torchvision) (12.5.40)\n",
      "Requirement already satisfied: PyYAML<8.0,>=5.4 in /usr/lib/python3/dist-packages (from lightning) (5.4.1)\n",
      "Requirement already satisfied: tqdm<6.0,>=4.57.0 in /home/openai/.local/lib/python3.10/site-packages (from lightning) (4.66.4)\n",
      "Requirement already satisfied: packaging<25.0,>=20.0 in /home/openai/.local/lib/python3.10/site-packages (from lightning) (24.0)\n",
      "Requirement already satisfied: pytorch-lightning in /home/openai/.local/lib/python3.10/site-packages (from lightning) (2.2.5)\n",
      "Requirement already satisfied: torchmetrics<3.0,>=0.7.0 in /home/openai/.local/lib/python3.10/site-packages (from lightning) (1.4.0.post0)\n",
      "Requirement already satisfied: lightning-utilities<2.0,>=0.8.0 in /home/openai/.local/lib/python3.10/site-packages (from lightning) (0.11.2)\n",
      "Requirement already satisfied: protobuf!=4.24.0,>=3.19.6 in /home/openai/.local/lib/python3.10/site-packages (from tensorboard) (5.27.0)\n",
      "Requirement already satisfied: six>1.9 in /usr/lib/python3/dist-packages (from tensorboard) (1.16.0)\n",
      "Requirement already satisfied: grpcio>=1.48.2 in /home/openai/.local/lib/python3.10/site-packages (from tensorboard) (1.64.0)\n",
      "Requirement already satisfied: werkzeug>=1.0.1 in /home/openai/.local/lib/python3.10/site-packages (from tensorboard) (3.0.3)\n",
      "Requirement already satisfied: setuptools>=41.0.0 in /usr/lib/python3/dist-packages (from tensorboard) (59.6.0)\n",
      "Requirement already satisfied: markdown>=2.6.8 in /home/openai/.local/lib/python3.10/site-packages (from tensorboard) (3.6)\n",
      "Requirement already satisfied: absl-py>=0.4 in /home/openai/.local/lib/python3.10/site-packages (from tensorboard) (2.1.0)\n",
      "Requirement already satisfied: tensorboard-data-server<0.8.0,>=0.7.0 in /home/openai/.local/lib/python3.10/site-packages (from tensorboard) (0.7.2)\n",
      "Requirement already satisfied: aiohttp!=4.0.0a0,!=4.0.0a1 in /home/openai/.local/lib/python3.10/site-packages (from fsspec->torch==2.3.0->torchvision) (3.9.5)\n",
      "Requirement already satisfied: MarkupSafe>=2.1.1 in /home/openai/.local/lib/python3.10/site-packages (from werkzeug>=1.0.1->tensorboard) (2.1.5)\n",
      "Requirement already satisfied: aiosignal>=1.1.2 in /home/openai/.local/lib/python3.10/site-packages (from aiohttp!=4.0.0a0,!=4.0.0a1->fsspec->torch==2.3.0->torchvision) (1.3.1)\n",
      "Requirement already satisfied: yarl<2.0,>=1.0 in /home/openai/.local/lib/python3.10/site-packages (from aiohttp!=4.0.0a0,!=4.0.0a1->fsspec->torch==2.3.0->torchvision) (1.9.4)\n",
      "Requirement already satisfied: attrs>=17.3.0 in /home/openai/.local/lib/python3.10/site-packages (from aiohttp!=4.0.0a0,!=4.0.0a1->fsspec->torch==2.3.0->torchvision) (23.2.0)\n",
      "Requirement already satisfied: multidict<7.0,>=4.5 in /home/openai/.local/lib/python3.10/site-packages (from aiohttp!=4.0.0a0,!=4.0.0a1->fsspec->torch==2.3.0->torchvision) (6.0.5)\n",
      "Requirement already satisfied: async-timeout<5.0,>=4.0 in /home/openai/.local/lib/python3.10/site-packages (from aiohttp!=4.0.0a0,!=4.0.0a1->fsspec->torch==2.3.0->torchvision) (4.0.3)\n",
      "Requirement already satisfied: frozenlist>=1.1.1 in /home/openai/.local/lib/python3.10/site-packages (from aiohttp!=4.0.0a0,!=4.0.0a1->fsspec->torch==2.3.0->torchvision) (1.4.1)\n",
      "Requirement already satisfied: mpmath<1.4.0,>=1.1.0 in /home/openai/.local/lib/python3.10/site-packages (from sympy->torch==2.3.0->torchvision) (1.3.0)\n",
      "Requirement already satisfied: idna>=2.0 in /usr/lib/python3/dist-packages (from yarl<2.0,>=1.0->aiohttp!=4.0.0a0,!=4.0.0a1->fsspec->torch==2.3.0->torchvision) (3.3)\n"
     ]
    }
   ],
   "source": [
    "!pip install torchvision lightning tensorboard"
   ]
  },
  {
   "cell_type": "code",
   "execution_count": 7,
   "metadata": {},
   "outputs": [
    {
     "name": "stderr",
     "output_type": "stream",
     "text": [
      "GPU available: True (cuda), used: True\n",
      "TPU available: False, using: 0 TPU cores\n",
      "HPU available: False, using: 0 HPUs\n",
      "LOCAL_RANK: 0 - CUDA_VISIBLE_DEVICES: [0]\n",
      "\n",
      "  | Name   | Type   | Params | Mode \n",
      "------------------------------------------\n",
      "0 | linear | Linear | 7.9 K  | train\n",
      "------------------------------------------\n",
      "7.9 K     Trainable params\n",
      "0         Non-trainable params\n",
      "7.9 K     Total params\n",
      "0.031     Total estimated model params size (MB)\n",
      "1         Modules in train mode\n",
      "0         Modules in eval mode\n"
     ]
    },
    {
     "name": "stdout",
     "output_type": "stream",
     "text": [
      "                                                                            "
     ]
    },
    {
     "name": "stderr",
     "output_type": "stream",
     "text": [
      "/home/openai/source/workshop-ki-deepdive-09-10/.venv/lib/python3.10/site-packages/lightning/pytorch/trainer/connectors/data_connector.py:424: The 'val_dataloader' does not have many workers which may be a bottleneck. Consider increasing the value of the `num_workers` argument` to `num_workers=5` in the `DataLoader` to improve performance.\n",
      "/home/openai/source/workshop-ki-deepdive-09-10/.venv/lib/python3.10/site-packages/lightning/pytorch/trainer/connectors/data_connector.py:424: The 'train_dataloader' does not have many workers which may be a bottleneck. Consider increasing the value of the `num_workers` argument` to `num_workers=5` in the `DataLoader` to improve performance.\n"
     ]
    },
    {
     "name": "stdout",
     "output_type": "stream",
     "text": [
      "Epoch 2: 100%|██████████| 1875/1875 [00:24<00:00, 76.04it/s, v_num=5]"
     ]
    },
    {
     "name": "stderr",
     "output_type": "stream",
     "text": [
      "`Trainer.fit` stopped: `max_epochs=3` reached.\n"
     ]
    },
    {
     "name": "stdout",
     "output_type": "stream",
     "text": [
      "Epoch 2: 100%|██████████| 1875/1875 [00:24<00:00, 76.03it/s, v_num=5]\n"
     ]
    }
   ],
   "source": [
    "import torch\n",
    "import torch.nn.functional as F\n",
    "from torch.utils.data import DataLoader\n",
    "from torchvision.datasets import MNIST\n",
    "from torchvision import transforms\n",
    "import lightning as L\n",
    "import torch.nn.functional as F\n",
    "\n",
    "class MNISTModel(L.LightningModule):\n",
    "    def __init__(self):\n",
    "        super().__init__()\n",
    "        # Model architecture using nn.Linear\n",
    "        self.linear = torch.nn.Linear(28*28, 10)\n",
    "        self.learning_rate = 0.1\n",
    "    \n",
    "    def forward(self, x):\n",
    "        # Forward pass using the defined linear layer\n",
    "        x = x.flatten(start_dim=1)        \n",
    "        return self.linear(x)\n",
    "    \n",
    "    def training_step(self, batch, batch_idx):\n",
    "        # Training logic\n",
    "        X, y = batch\n",
    "        output = self(X)\n",
    "        loss = F.cross_entropy(output, y)\n",
    "        self.log('train_loss', loss)\n",
    "        return loss\n",
    "    \n",
    "    def validation_step(self, batch, batch_idx):\n",
    "        # Validation logic\n",
    "        X, y = batch\n",
    "        output = self(X)\n",
    "        loss = F.cross_entropy(output, y)\n",
    "        acc = accuracy(output, y)\n",
    "        self.log('val_loss', loss)\n",
    "        self.log('val_acc', acc)\n",
    "        return {'loss': loss, 'accuracy': acc}\n",
    "    \n",
    "    def configure_optimizers(self):\n",
    "        # Configure optimizer\n",
    "        optimizer = torch.optim.SGD(self.linear.parameters(), lr=self.learning_rate)\n",
    "        return optimizer\n",
    "\n",
    "def accuracy(output, label):\n",
    "    # Accuracy calculation\n",
    "    return (output.argmax(1) == label).float().mean()\n",
    "\n",
    "# Data setup\n",
    "\n",
    "transform = transforms.Compose([\n",
    "    transforms.ToTensor()\n",
    "    ])\n",
    "\n",
    "dataset = MNIST(root='./data', train=True, \n",
    "                            download=True, transform=transform)\n",
    "train_loader = DataLoader(dataset, batch_size=32, shuffle=True)\n",
    "\n",
    "val_dataset = MNIST(root='./data', train=False, \n",
    "                            download=True, transform=transform)\n",
    "val_loader = DataLoader(val_dataset, batch_size=32, shuffle=False)\n",
    "\n",
    "# Model, Trainer and Training\n",
    "model = MNISTModel()\n",
    "trainer = L.Trainer(max_epochs=1, log_every_n_steps=10, val_check_interval = 500, accelerator=\"gpu\")\n",
    "trainer.fit(model, train_loader, val_loader)\n"
   ]
  },
  {
   "cell_type": "code",
   "execution_count": 8,
   "metadata": {},
   "outputs": [
    {
     "name": "stderr",
     "output_type": "stream",
     "text": [
      "LOCAL_RANK: 0 - CUDA_VISIBLE_DEVICES: [0]\n"
     ]
    },
    {
     "name": "stdout",
     "output_type": "stream",
     "text": [
      "Validation DataLoader 0: 100%|██████████| 313/313 [00:02<00:00, 145.01it/s]\n",
      "────────────────────────────────────────────────────────────────────────────────────────────────────────────────────────\n",
      "     Validate metric           DataLoader 0\n",
      "────────────────────────────────────────────────────────────────────────────────────────────────────────────────────────\n",
      "         val_acc            0.9207000136375427\n",
      "        val_loss            0.28309309482574463\n",
      "────────────────────────────────────────────────────────────────────────────────────────────────────────────────────────\n"
     ]
    },
    {
     "data": {
      "text/plain": [
       "[{'val_loss': 0.28309309482574463, 'val_acc': 0.9207000136375427}]"
      ]
     },
     "execution_count": 8,
     "metadata": {},
     "output_type": "execute_result"
    }
   ],
   "source": [
    "trainer.validate(model,val_loader)"
   ]
  },
  {
   "cell_type": "markdown",
   "metadata": {},
   "source": [
    "## Wie können wir das Ergebniss verbessern?\n",
    "\n",
    "* Länger Tranieren (mehr epochen)\n",
    "* Sinvollere Lernrate (ausprobieren!)\n",
    "* Größeres Netz (mehr Schichten)\n",
    "* Aktivierungsfunktionen (zwischen den Schichten!)\n",
    "* Normalisierung (Batch, Layer, Input)\n",
    "* Dropout\n",
    "* SGD mit Momentum\n",
    "* Adam Optimizer\n",
    "* Data Augmentation\n",
    "* ChatGPT Fragen :)"
   ]
  },
  {
   "cell_type": "code",
   "execution_count": 9,
   "metadata": {},
   "outputs": [
    {
     "name": "stdout",
     "output_type": "stream",
     "text": [
      "The tensorboard extension is already loaded. To reload it, use:\n",
      "  %reload_ext tensorboard\n"
     ]
    },
    {
     "data": {
      "text/plain": [
       "Reusing TensorBoard on port 6006 (pid 13086), started 0:00:42 ago. (Use '!kill 13086' to kill it.)"
      ]
     },
     "metadata": {},
     "output_type": "display_data"
    },
    {
     "data": {
      "text/html": [
       "\n",
       "      <iframe id=\"tensorboard-frame-c0eb5ffa64baf3c2\" width=\"100%\" height=\"800\" frameborder=\"0\">\n",
       "      </iframe>\n",
       "      <script>\n",
       "        (function() {\n",
       "          const frame = document.getElementById(\"tensorboard-frame-c0eb5ffa64baf3c2\");\n",
       "          const url = new URL(\"http://localhost\");\n",
       "          const port = 6006;\n",
       "          if (port) {\n",
       "            url.port = port;\n",
       "          }\n",
       "          frame.src = url;\n",
       "        })();\n",
       "      </script>\n",
       "    "
      ],
      "text/plain": [
       "<IPython.core.display.HTML object>"
      ]
     },
     "metadata": {},
     "output_type": "display_data"
    }
   ],
   "source": [
    "%load_ext tensorboard\n",
    "%tensorboard --logdir ./lightning_logs"
   ]
  }
 ],
 "metadata": {
  "kernelspec": {
   "display_name": "Python 3",
   "language": "python",
   "name": "python3"
  },
  "language_info": {
   "codemirror_mode": {
    "name": "ipython",
    "version": 3
   },
   "file_extension": ".py",
   "mimetype": "text/x-python",
   "name": "python",
   "nbconvert_exporter": "python",
   "pygments_lexer": "ipython3",
   "version": "3.10.12"
  }
 },
 "nbformat": 4,
 "nbformat_minor": 2
}
