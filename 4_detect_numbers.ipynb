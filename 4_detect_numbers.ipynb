{
 "cells": [
  {
   "cell_type": "code",
   "execution_count": null,
   "metadata": {},
   "outputs": [],
   "source": [
    "!pip install torchvision"
   ]
  },
  {
   "cell_type": "code",
   "execution_count": null,
   "metadata": {},
   "outputs": [],
   "source": [
    "import torch\n",
    "import torch.nn as nn\n",
    "import torch.nn.functional as F\n",
    "from torchvision import datasets, transforms\n",
    "import numpy as np\n",
    "\n",
    "# standard plotting library\n",
    "import matplotlib.pyplot as plt"
   ]
  },
  {
   "cell_type": "code",
   "execution_count": null,
   "metadata": {},
   "outputs": [],
   "source": [
    "## Helper zum Plotten \n",
    "\n",
    "def show_image_grid(X, y=None, y_pred=None, title=None, nrow=6, ncol=4, **kwargs):\n",
    "    max_num = nrow*ncol\n",
    "    X = X[:max_num]\n",
    "    if len(X) < max_num:\n",
    "        ncol = len(X) // nrow + 1\n",
    "    if isinstance(X, np.ndarray):\n",
    "        X = torch.from_numpy(X)\n",
    "    if X.dim() != 4:\n",
    "        X = X[:, None]\n",
    "\n",
    "    plt.figure(title, figsize=(2*nrow, 2*ncol + (0 if y is None else 1)))\n",
    "    if title:\n",
    "        plt.title(title)\n",
    "        \n",
    "    if isinstance(y, torch.Tensor):\n",
    "        y = y.numpy()\n",
    "        \n",
    "    for i, Xi in enumerate(X):\n",
    "        plt.subplot(ncol, nrow, i+1)\n",
    "        img = Xi.numpy().transpose((1, 2, 0))\n",
    "        if img.shape[2] == 1:\n",
    "            img = img[..., 0]\n",
    "        plt.imshow(img)\n",
    "\n",
    "        title = \"\"\n",
    "        if y is not None:\n",
    "          title += str(int(y[i]))\n",
    "        if y_pred is not None:\n",
    "          title += \"/\" + str(int(y_pred[i]))\n",
    "        if len(title) > 0: \n",
    "          plt.title(title)\n",
    "\n",
    "        plt.axis('off')\n",
    "    \n",
    "    plt.axis('off')\n"
   ]
  },
  {
   "cell_type": "markdown",
   "metadata": {},
   "source": [
    "# Unser erstes Netz\n",
    "\n",
    "## Daten Laden"
   ]
  },
  {
   "cell_type": "code",
   "execution_count": null,
   "metadata": {},
   "outputs": [],
   "source": [
    "train_data = datasets.MNIST(root='./data', train=True, \n",
    "                            download=True, transform=transforms.ToTensor())\n",
    "train_data"
   ]
  },
  {
   "cell_type": "code",
   "execution_count": null,
   "metadata": {},
   "outputs": [],
   "source": [
    "\n",
    "batch_size = 128\n",
    "train_loader = torch.utils.data.DataLoader(train_data, shuffle=True, batch_size=batch_size)\n",
    "train_loader\n",
    "\n",
    "valid_data = datasets.MNIST(root='./data', train=False, \n",
    "                            download=True, transform=transforms.ToTensor())\n",
    "valid_loader = torch.utils.data.DataLoader(valid_data, shuffle=False, batch_size=batch_size)"
   ]
  },
  {
   "cell_type": "code",
   "execution_count": null,
   "metadata": {},
   "outputs": [],
   "source": [
    "x, y = next(iter(train_loader))\n",
    "\n",
    "plt.gray() # sets matplotlib colormap\n",
    "plt.imshow(x[0,0])\n",
    "print(\"label\",y[0])"
   ]
  },
  {
   "cell_type": "markdown",
   "metadata": {},
   "source": [
    "## Das Netz trainieren"
   ]
  },
  {
   "cell_type": "code",
   "execution_count": null,
   "metadata": {},
   "outputs": [],
   "source": [
    "def accuracy(output, label):\n",
    "    return (output.argmax(1) == label).float().mean()\n",
    "\n",
    "lr = 0.1\n",
    "\n",
    "# wir definieren unser \"netz\" \n",
    "weight = torch.zeros((28*28, 10), requires_grad=True)\n",
    "bias = torch.zeros(10, requires_grad=True)\n",
    "\n",
    "losses = []\n",
    "for epoch in range(1):\n",
    "    # train on mini batches\n",
    "    for X, y in train_loader:\n",
    "        # forward pass\n",
    "        output = X.view(-1, 28*28) @ weight + bias    \n",
    "        \n",
    "        # compute loss        \n",
    "        loss = F.cross_entropy(output,y)\n",
    "        losses.append(loss.item())\n",
    "        \n",
    "        # backward pass\n",
    "        loss.backward()\n",
    "        with torch.no_grad():\n",
    "          weight -= lr * weight.grad\n",
    "          weight.grad.zero_()\n",
    "          bias -= lr * bias.grad\n",
    "          bias.grad.zero_()\n",
    "    \n",
    "    # measure accuracy on the validation set\n",
    "    acc = accuracy(output,y)\n",
    "    print(\"epoch % 5d: loss: % 8.5f accuracy: %4.2f\" % (epoch, torch.mean(torch.tensor(losses)), acc.item()))    \n"
   ]
  },
  {
   "cell_type": "code",
   "execution_count": null,
   "metadata": {},
   "outputs": [],
   "source": [
    "plt.plot(losses)"
   ]
  },
  {
   "cell_type": "code",
   "execution_count": null,
   "metadata": {},
   "outputs": [],
   "source": [
    "Xv, yv = next(iter(valid_loader))\n",
    "prediction = Xv.view(-1, 28*28) @ weight + bias  \n",
    "show_image_grid(Xv, y=yv, y_pred=prediction.argmax(dim=1))"
   ]
  },
  {
   "cell_type": "code",
   "execution_count": null,
   "metadata": {},
   "outputs": [],
   "source": [
    "W = weight.detach()\n",
    "W.shape"
   ]
  },
  {
   "cell_type": "code",
   "execution_count": null,
   "metadata": {},
   "outputs": [],
   "source": [
    "W[:, 0]"
   ]
  },
  {
   "cell_type": "code",
   "execution_count": null,
   "metadata": {},
   "outputs": [],
   "source": [
    "plt.imshow(W[:, 0].reshape(28, 28))"
   ]
  },
  {
   "cell_type": "code",
   "execution_count": null,
   "metadata": {},
   "outputs": [],
   "source": [
    "show_image_grid(W.reshape(28, 28, 10).permute(2, 0, 1), nrow=4)"
   ]
  }
 ],
 "metadata": {
  "kernelspec": {
   "display_name": "Python 3",
   "language": "python",
   "name": "python3"
  },
  "language_info": {
   "codemirror_mode": {
    "name": "ipython",
    "version": 3
   },
   "file_extension": ".py",
   "mimetype": "text/x-python",
   "name": "python",
   "nbconvert_exporter": "python",
   "pygments_lexer": "ipython3",
   "version": "3.10.12"
  }
 },
 "nbformat": 4,
 "nbformat_minor": 2
}
