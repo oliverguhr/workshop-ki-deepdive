{
 "cells": [
  {
   "cell_type": "code",
   "execution_count": 6,
   "metadata": {},
   "outputs": [],
   "source": [
    "!pip install torchvision"
   ]
  },
  {
   "cell_type": "code",
   "execution_count": null,
   "metadata": {},
   "outputs": [],
   "source": [
    "import torch\n",
    "import torch.nn as nn\n",
    "import torch.nn.functional as F\n",
    "from torchvision import datasets, transforms\n",
    "import numpy as np\n",
    "\n",
    "# standard plotting library\n",
    "import matplotlib.pyplot as plt"
   ]
  },
  {
   "cell_type": "code",
   "execution_count": 4,
   "metadata": {},
   "outputs": [],
   "source": [
    "## Helper zum Plotten \n",
    "\n",
    "def show_image_grid(X, y=None, y_pred=None, title=None, nrow=6, ncol=4, **kwargs):\n",
    "    max_num = nrow*ncol\n",
    "    X = X[:max_num]\n",
    "    if len(X) < max_num:\n",
    "        ncol = len(X) // nrow + 1\n",
    "    if isinstance(X, np.ndarray):\n",
    "        X = torch.from_numpy(X)\n",
    "    if X.dim() != 4:\n",
    "        X = X[:, None]\n",
    "\n",
    "    plt.figure(title, figsize=(2*nrow, 2*ncol + (0 if y is None else 1)))\n",
    "    if title:\n",
    "        plt.title(title)\n",
    "        \n",
    "    if isinstance(y, torch.Tensor):\n",
    "        y = y.numpy()\n",
    "        \n",
    "    for i, Xi in enumerate(X):\n",
    "        plt.subplot(ncol, nrow, i+1)\n",
    "        img = Xi.numpy().transpose((1, 2, 0))\n",
    "        if img.shape[2] == 1:\n",
    "            img = img[..., 0]\n",
    "        plt.imshow(img)\n",
    "\n",
    "        title = \"\"\n",
    "        if y is not None:\n",
    "          title += str(int(y[i]))\n",
    "        if y_pred is not None:\n",
    "          title += \"/\" + str(int(y_pred[i]))\n",
    "        if len(title) > 0: \n",
    "          plt.title(title)\n",
    "\n",
    "        plt.axis('off')\n",
    "    \n",
    "    plt.axis('off')\n"
   ]
  },
  {
   "cell_type": "markdown",
   "metadata": {},
   "source": [
    "# Unser erstes Netz\n",
    "\n",
    "## Daten Laden"
   ]
  },
  {
   "cell_type": "code",
   "execution_count": 8,
   "metadata": {},
   "outputs": [
    {
     "name": "stdout",
     "output_type": "stream",
     "text": [
      "Downloading http://yann.lecun.com/exdb/mnist/train-images-idx3-ubyte.gz\n",
      "Failed to download (trying next):\n",
      "HTTP Error 403: Forbidden\n",
      "\n",
      "Downloading https://ossci-datasets.s3.amazonaws.com/mnist/train-images-idx3-ubyte.gz\n",
      "Downloading https://ossci-datasets.s3.amazonaws.com/mnist/train-images-idx3-ubyte.gz to ./data/MNIST/raw/train-images-idx3-ubyte.gz\n"
     ]
    },
    {
     "name": "stderr",
     "output_type": "stream",
     "text": [
      "100%|██████████| 9912422/9912422 [00:06<00:00, 1553482.81it/s]\n"
     ]
    },
    {
     "name": "stdout",
     "output_type": "stream",
     "text": [
      "Extracting ./data/MNIST/raw/train-images-idx3-ubyte.gz to ./data/MNIST/raw\n",
      "\n",
      "Downloading http://yann.lecun.com/exdb/mnist/train-labels-idx1-ubyte.gz\n",
      "Failed to download (trying next):\n",
      "HTTP Error 403: Forbidden\n",
      "\n",
      "Downloading https://ossci-datasets.s3.amazonaws.com/mnist/train-labels-idx1-ubyte.gz\n",
      "Downloading https://ossci-datasets.s3.amazonaws.com/mnist/train-labels-idx1-ubyte.gz to ./data/MNIST/raw/train-labels-idx1-ubyte.gz\n"
     ]
    },
    {
     "name": "stderr",
     "output_type": "stream",
     "text": [
      "100%|██████████| 28881/28881 [00:00<00:00, 255960.14it/s]\n"
     ]
    },
    {
     "name": "stdout",
     "output_type": "stream",
     "text": [
      "Extracting ./data/MNIST/raw/train-labels-idx1-ubyte.gz to ./data/MNIST/raw\n",
      "\n",
      "Downloading http://yann.lecun.com/exdb/mnist/t10k-images-idx3-ubyte.gz\n",
      "Failed to download (trying next):\n",
      "HTTP Error 403: Forbidden\n",
      "\n",
      "Downloading https://ossci-datasets.s3.amazonaws.com/mnist/t10k-images-idx3-ubyte.gz\n",
      "Downloading https://ossci-datasets.s3.amazonaws.com/mnist/t10k-images-idx3-ubyte.gz to ./data/MNIST/raw/t10k-images-idx3-ubyte.gz\n"
     ]
    },
    {
     "name": "stderr",
     "output_type": "stream",
     "text": [
      "100%|██████████| 1648877/1648877 [00:00<00:00, 2230760.00it/s]\n"
     ]
    },
    {
     "name": "stdout",
     "output_type": "stream",
     "text": [
      "Extracting ./data/MNIST/raw/t10k-images-idx3-ubyte.gz to ./data/MNIST/raw\n",
      "\n",
      "Downloading http://yann.lecun.com/exdb/mnist/t10k-labels-idx1-ubyte.gz\n",
      "Failed to download (trying next):\n",
      "HTTP Error 403: Forbidden\n",
      "\n",
      "Downloading https://ossci-datasets.s3.amazonaws.com/mnist/t10k-labels-idx1-ubyte.gz\n",
      "Downloading https://ossci-datasets.s3.amazonaws.com/mnist/t10k-labels-idx1-ubyte.gz to ./data/MNIST/raw/t10k-labels-idx1-ubyte.gz\n"
     ]
    },
    {
     "name": "stderr",
     "output_type": "stream",
     "text": [
      "100%|██████████| 4542/4542 [00:00<00:00, 18126097.78it/s]"
     ]
    },
    {
     "name": "stdout",
     "output_type": "stream",
     "text": [
      "Extracting ./data/MNIST/raw/t10k-labels-idx1-ubyte.gz to ./data/MNIST/raw\n",
      "\n"
     ]
    },
    {
     "name": "stderr",
     "output_type": "stream",
     "text": [
      "\n"
     ]
    },
    {
     "data": {
      "text/plain": [
       "Dataset MNIST\n",
       "    Number of datapoints: 60000\n",
       "    Root location: ./data\n",
       "    Split: Train\n",
       "    StandardTransform\n",
       "Transform: ToTensor()"
      ]
     },
     "execution_count": 8,
     "metadata": {},
     "output_type": "execute_result"
    }
   ],
   "source": [
    "train_data = datasets.MNIST(root='./data', train=True, \n",
    "                            download=True, transform=transforms.ToTensor())\n",
    "train_data"
   ]
  },
  {
   "cell_type": "code",
   "execution_count": 10,
   "metadata": {},
   "outputs": [],
   "source": [
    "\n",
    "batch_size = 128\n",
    "train_loader = torch.utils.data.DataLoader(train_data, shuffle=True, batch_size=batch_size)\n",
    "train_loader\n",
    "\n",
    "valid_data = datasets.MNIST(root='./data', train=False, \n",
    "                            download=True, transform=transforms.ToTensor())\n",
    "valid_loader = torch.utils.data.DataLoader(valid_data, shuffle=False, batch_size=batch_size)"
   ]
  },
  {
   "cell_type": "code",
   "execution_count": 47,
   "metadata": {},
   "outputs": [
    {
     "name": "stdout",
     "output_type": "stream",
     "text": [
      "label tensor(5)\n"
     ]
    },
    {
     "data": {
      "image/png": "[encoded data removed]",
      "text/plain": [
       "<Figure size 432x288 with 1 Axes>"
      ]
     },
     "metadata": {
      "needs_background": "light"
     },
     "output_type": "display_data"
    }
   ],
   "source": [
    "x, y = next(iter(train_loader))\n",
    "\n",
    "plt.gray() # sets matplotlib colormap\n",
    "plt.imshow(x[0,0])\n",
    "print(\"label\",y[0])"
   ]
  },
  {
   "cell_type": "markdown",
   "metadata": {},
   "source": [
    "## Das Netz trainieren"
   ]
  },
  {
   "cell_type": "code",
   "execution_count": 74,
   "metadata": {},
   "outputs": [
    {
     "name": "stdout",
     "output_type": "stream",
     "text": [
      "epoch     0: loss:  0.57209 accuracy: 0.90\n"
     ]
    }
   ],
   "source": [
    "def accuracy(output, label):\n",
    "    return (output.argmax(1) == label).float().mean()\n",
    "\n",
    "lr = 0.1\n",
    "\n",
    "# wir definieren unser \"netz\" \n",
    "weight = torch.zeros((28*28, 10), requires_grad=True)\n",
    "bias = torch.zeros(10, requires_grad=True)\n",
    "\n",
    "losses = []\n",
    "for epoch in range(1):\n",
    "    # train on mini batches\n",
    "    for X, y in train_loader:\n",
    "        # forward pass\n",
    "        output = X.view(-1, 28*28) @ weight + bias    \n",
    "        \n",
    "        # compute loss        \n",
    "        loss = F.cross_entropy(output,y)\n",
    "        losses.append(loss.item())\n",
    "        \n",
    "        # backward pass\n",
    "        loss.backward()\n",
    "        with torch.no_grad():\n",
    "          weight -= lr * weight.grad\n",
    "          weight.grad.zero_()\n",
    "          bias -= lr * bias.grad\n",
    "          bias.grad.zero_()\n",
    "    \n",
    "    # measure accuracy on the validation set\n",
    "    acc = accuracy(output,y)\n",
    "    print(\"epoch % 5d: loss: % 8.5f accuracy: %4.2f\" % (epoch, torch.mean(torch.tensor(losses)), acc.item()))    \n"
   ]
  },
  {
   "cell_type": "code",
   "execution_count": 76,
   "metadata": {},
   "outputs": [
    {
     "data": {
      "text/plain": [
       "[<matplotlib.lines.Line2D at 0x7e81dc132770>]"
      ]
     },
     "execution_count": 76,
     "metadata": {},
     "output_type": "execute_result"
    },
    {
     "data": {
      "image/png": "[encoded data removed]",
      "text/plain": [
       "<Figure size 432x288 with 1 Axes>"
      ]
     },
     "metadata": {
      "needs_background": "light"
     },
     "output_type": "display_data"
    }
   ],
   "source": [
    "plt.plot(losses)"
   ]
  },
  {
   "cell_type": "code",
   "execution_count": null,
   "metadata": {},
   "outputs": [
    {
     "data": {
      "image/png": "[encoded data removed]",
      "text/plain": [
       "<Figure size 864x648 with 24 Axes>"
      ]
     },
     "metadata": {},
     "output_type": "display_data"
    }
   ],
   "source": [
    "Xv, yv = next(iter(valid_loader))\n",
    "prediction = Xv.view(-1, 28*28) @ weight + bias  \n",
    "show_image_grid(Xv, y=yv, y_pred=prediction.argmax(dim=1))"
   ]
  },
  {
   "cell_type": "code",
   "execution_count": null,
   "metadata": {},
   "outputs": [
    {
     "data": {
      "text/plain": [
       "torch.Size([784, 10])"
      ]
     },
     "metadata": {},
     "output_type": "display_data"
    }
   ],
   "source": [
    "W = weight.detach()\n",
    "W.shape"
   ]
  },
  {
   "cell_type": "code",
   "execution_count": null,
   "metadata": {},
   "outputs": [
    {
     "data": {
      "text/plain": [
       "tensor([ 0.0000e+00,  0.0000e+00,  0.0000e+00,  0.0000e+00,  0.0000e+00,\n",
       "         0.0000e+00,  0.0000e+00,  0.0000e+00,  0.0000e+00,  0.0000e+00,\n",
       "         0.0000e+00,  0.0000e+00, -7.5276e-06, -1.8094e-05, -1.7932e-06,\n",
       "        -7.4717e-08,  0.0000e+00,  0.0000e+00,  0.0000e+00,  0.0000e+00,\n",
       "         0.0000e+00,  0.0000e+00,  0.0000e+00,  0.0000e+00,  0.0000e+00,\n",
       "         0.0000e+00,  0.0000e+00,  0.0000e+00,  0.0000e+00,  0.0000e+00,\n",
       "         0.0000e+00,  0.0000e+00, -2.9294e-08, -1.4370e-07, -4.7796e-06,\n",
       "        -1.4008e-05, -7.3284e-05, -1.3777e-04, -3.6515e-04,  1.3153e-04,\n",
       "         7.3651e-04,  1.3780e-04, -4.7058e-04,  1.2015e-04,  8.5093e-04,\n",
       "         2.4247e-04, -2.6327e-04, -2.7573e-04, -1.8358e-04, -7.2371e-05,\n",
       "        -1.6141e-05, -5.7871e-07,  0.0000e+00,  0.0000e+00,  0.0000e+00,\n",
       "         0.0000e+00,  0.0000e+00,  0.0000e+00, -2.4148e-05,  4.1286e-05,\n",
       "        -2.7504e-06, -2.3142e-05, -3.1268e-04, -5.0649e-04, -1.2218e-03,\n",
       "        -2.9639e-03, -4.2952e-03, -5.2365e-03, -6.7780e-03, -8.7756e-03,\n",
       "        -1.2379e-02, -1.4369e-02, -1.4428e-02, -1.3054e-02, -1.1460e-02,\n",
       "        -9.7071e-03, -6.8300e-03, -4.0315e-03, -1.9486e-03, -6.6981e-04,\n",
       "        -2.7261e-04, -9.3761e-05,  0.0000e+00,  0.0000e+00,  0.0000e+00,\n",
       "         0.0000e+00, -5.3226e-05,  5.0616e-05, -2.2556e-04, -1.6900e-03,\n",
       "        -2.8402e-03, -4.7197e-03, -6.1671e-03, -1.2967e-02, -1.6774e-02,\n",
       "        -1.8886e-02, -2.4715e-02, -2.6395e-02, -3.3424e-02, -3.5508e-02,\n",
       "        -3.8431e-02, -4.3015e-02, -4.8232e-02, -4.4463e-02, -3.3822e-02,\n",
       "        -2.4247e-02, -1.5068e-02, -6.6282e-03, -2.6579e-03, -7.2205e-04,\n",
       "        -1.0354e-04,  0.0000e+00,  0.0000e+00, -2.5791e-08, -1.0003e-05,\n",
       "         4.8317e-05, -8.3457e-04, -4.7937e-03, -8.3031e-03, -1.2314e-02,\n",
       "        -1.9812e-02, -2.6793e-02, -3.4310e-02, -3.1273e-02, -2.5561e-02,\n",
       "        -6.3506e-03,  3.3418e-03,  1.4152e-02, -1.3560e-03, -9.0627e-03,\n",
       "        -2.2942e-02, -2.7785e-02, -2.5977e-02, -2.6987e-02, -2.2125e-02,\n",
       "        -1.6860e-02, -1.0412e-02, -2.9783e-03, -3.9869e-04, -1.0373e-05,\n",
       "         0.0000e+00,  0.0000e+00, -4.1762e-05, -1.4627e-04, -3.0067e-03,\n",
       "        -1.1349e-02, -1.7995e-02, -3.0438e-02, -4.3423e-02, -4.9708e-02,\n",
       "        -3.8097e-02, -1.8386e-02,  8.8493e-03,  5.9578e-02,  9.0861e-02,\n",
       "         1.0790e-01,  1.0407e-01,  9.2730e-02,  5.8363e-02,  2.5055e-02,\n",
       "        -2.7579e-03, -9.0814e-03, -2.0313e-02, -3.1589e-02, -2.4153e-02,\n",
       "        -9.8190e-03, -2.3576e-03, -2.8325e-04,  0.0000e+00, -6.4056e-07,\n",
       "        -1.3389e-04, -9.7460e-04, -6.2518e-03, -1.4568e-02, -2.8052e-02,\n",
       "        -4.4602e-02, -5.7978e-02, -5.7678e-02, -3.0086e-02, -1.5926e-03,\n",
       "         3.0799e-02,  6.9496e-02,  8.8712e-02,  1.1063e-01,  1.3734e-01,\n",
       "         1.4895e-01,  1.2530e-01,  7.7132e-02,  4.3435e-02,  3.3991e-02,\n",
       "         1.4864e-02, -2.6189e-02, -4.0454e-02, -2.2493e-02, -7.0539e-03,\n",
       "        -9.5790e-04, -4.7936e-08, -5.2995e-05, -6.2798e-04, -2.1251e-03,\n",
       "        -1.0393e-02, -1.9848e-02, -3.5767e-02, -5.2908e-02, -6.1060e-02,\n",
       "        -3.5910e-02, -1.2129e-02,  1.2964e-02,  3.3382e-02,  4.9419e-02,\n",
       "         6.8039e-02,  9.6965e-02,  1.3411e-01,  1.6713e-01,  1.5573e-01,\n",
       "         1.0352e-01,  5.8141e-02,  4.3243e-02,  3.9015e-02, -1.5496e-03,\n",
       "        -4.1046e-02, -3.1374e-02, -8.4478e-03, -3.2035e-04,  3.1535e-04,\n",
       "        -1.2541e-04, -1.1506e-03, -4.5599e-03, -1.7073e-02, -2.9096e-02,\n",
       "        -4.0619e-02, -5.2662e-02, -4.5433e-02, -2.3590e-02, -1.2419e-03,\n",
       "         1.0876e-02,  3.2268e-02,  4.5713e-02,  6.8932e-02,  9.0690e-02,\n",
       "         1.2909e-01,  1.5213e-01,  1.5313e-01,  1.0959e-01,  7.4319e-02,\n",
       "         5.2446e-02,  6.4413e-02,  3.7834e-02, -2.8257e-02, -3.5232e-02,\n",
       "        -8.6270e-03, -5.7757e-04, -3.6948e-06, -1.9291e-04, -1.4251e-03,\n",
       "        -6.2182e-03, -1.9756e-02, -3.1622e-02, -3.8254e-02, -3.8310e-02,\n",
       "        -3.0168e-02, -1.4391e-02,  7.1001e-03,  1.1937e-02,  4.8098e-02,\n",
       "         7.4331e-02,  6.2374e-02,  4.2172e-02,  5.6894e-02,  9.4345e-02,\n",
       "         1.3348e-01,  1.2030e-01,  8.1769e-02,  7.2801e-02,  9.6203e-02,\n",
       "         8.2100e-02,  3.2854e-03, -3.0193e-02, -7.6756e-03, -4.4618e-04,\n",
       "        -5.7509e-06, -3.8626e-04, -1.2724e-03, -8.2736e-03, -2.1081e-02,\n",
       "        -2.9413e-02, -2.9563e-02, -1.7585e-02, -1.3787e-02, -5.0184e-03,\n",
       "         2.7212e-03,  4.2056e-02,  6.2211e-02,  4.7690e-02, -4.6671e-03,\n",
       "        -5.6742e-02, -6.5175e-02,  6.8350e-04,  8.1965e-02,  1.0470e-01,\n",
       "         1.0498e-01,  1.0860e-01,  1.4923e-01,  1.3482e-01,  3.8884e-02,\n",
       "        -1.9561e-02, -6.5830e-03, -2.0096e-04, -1.1399e-05, -1.9755e-04,\n",
       "        -2.2966e-03, -9.1111e-03, -2.6473e-02, -2.6234e-02, -4.2542e-03,\n",
       "         1.2158e-02,  1.2338e-03, -4.1051e-03,  2.3628e-02,  5.6683e-02,\n",
       "         3.3238e-02, -2.6262e-02, -1.2496e-01, -1.9851e-01, -2.1092e-01,\n",
       "        -1.2389e-01, -1.0481e-02,  7.0952e-02,  1.0141e-01,  1.3684e-01,\n",
       "         1.8637e-01,  1.6894e-01,  6.6801e-02, -7.6309e-03, -3.1571e-03,\n",
       "        -8.1083e-05, -1.1046e-06, -1.8908e-04, -1.8354e-03, -9.0407e-03,\n",
       "        -2.6428e-02, -7.2212e-03,  3.4542e-02,  4.0257e-02,  1.2130e-02,\n",
       "         2.2900e-02,  6.8621e-02,  6.4051e-02,  5.2315e-03, -1.1518e-01,\n",
       "        -2.4052e-01, -3.0216e-01, -3.0300e-01, -2.0906e-01, -7.8842e-02,\n",
       "         1.4503e-02,  6.1019e-02,  1.2617e-01,  2.0379e-01,  1.8879e-01,\n",
       "         8.6993e-02,  1.1169e-03, -1.2317e-03, -2.5898e-05, -2.4165e-07,\n",
       "         1.1516e-04, -9.3499e-04, -8.4135e-03, -2.0318e-02,  2.1507e-02,\n",
       "         6.7179e-02,  7.1588e-02,  4.8553e-02,  7.5846e-02,  1.0782e-01,\n",
       "         5.2044e-02, -5.9943e-02, -2.1389e-01, -3.0935e-01, -3.4894e-01,\n",
       "        -3.3750e-01, -2.4089e-01, -1.1287e-01, -3.0045e-02,  2.3349e-02,\n",
       "         1.1494e-01,  1.9349e-01,  1.8496e-01,  9.0043e-02,  4.2246e-03,\n",
       "        -5.2124e-04, -1.2346e-04, -1.6835e-05, -4.7083e-05, -6.9475e-04,\n",
       "        -9.2435e-03, -1.4794e-02,  5.5175e-02,  9.8163e-02,  1.0928e-01,\n",
       "         9.8110e-02,  1.2523e-01,  1.2386e-01,  2.1532e-02, -1.3257e-01,\n",
       "        -2.7426e-01, -3.4947e-01, -3.6777e-01, -3.3984e-01, -2.1662e-01,\n",
       "        -9.9951e-02, -2.8278e-02,  3.0446e-02,  1.0728e-01,  1.6069e-01,\n",
       "         1.6291e-01,  8.5476e-02,  3.3003e-03, -5.2466e-04, -1.3887e-05,\n",
       "        -6.5426e-06, -3.5598e-05, -5.3855e-04, -1.1085e-02, -5.3548e-03,\n",
       "         8.3711e-02,  1.1615e-01,  1.3594e-01,  1.4010e-01,  1.6131e-01,\n",
       "         1.2303e-01, -3.5049e-02, -1.9831e-01, -3.2542e-01, -3.7566e-01,\n",
       "        -3.6849e-01, -2.9988e-01, -1.7113e-01, -5.5565e-02,  4.1420e-03,\n",
       "         4.5629e-02,  8.8291e-02,  1.3184e-01,  1.3155e-01,  6.5180e-02,\n",
       "         6.2537e-06, -8.7430e-04, -1.0987e-04, -5.8864e-06, -2.6667e-05,\n",
       "        -8.7664e-04, -1.3270e-02,  5.7394e-04,  9.9008e-02,  1.3798e-01,\n",
       "         1.4499e-01,  1.6246e-01,  1.6816e-01,  1.0513e-01, -6.1416e-02,\n",
       "        -2.2886e-01, -3.3118e-01, -3.5789e-01, -3.2036e-01, -2.2577e-01,\n",
       "        -9.5467e-02, -5.1085e-03,  3.3920e-02,  5.3962e-02,  7.8982e-02,\n",
       "         1.0228e-01,  8.9392e-02,  3.7598e-02, -4.2540e-03, -1.7583e-03,\n",
       "        -1.3882e-04,  0.0000e+00, -1.3966e-05, -1.4075e-03, -1.5934e-02,\n",
       "         2.3763e-03,  9.7321e-02,  1.4015e-01,  1.4848e-01,  1.5909e-01,\n",
       "         1.6935e-01,  1.0917e-01, -5.4313e-02, -1.9855e-01, -2.8912e-01,\n",
       "        -3.0594e-01, -2.3750e-01, -1.2396e-01, -1.9862e-02,  2.6364e-02,\n",
       "         4.0378e-02,  4.6780e-02,  5.9571e-02,  7.8634e-02,  4.6833e-02,\n",
       "         1.4514e-02, -4.8088e-03, -1.2204e-03,  5.4134e-04, -4.2361e-06,\n",
       "        -7.9176e-06, -1.5170e-03, -2.1353e-02, -3.7138e-03,  7.7481e-02,\n",
       "         1.1985e-01,  1.3757e-01,  1.5863e-01,  1.7066e-01,  1.2470e-01,\n",
       "        -1.4076e-02, -1.4378e-01, -2.1047e-01, -2.0305e-01, -1.2883e-01,\n",
       "        -4.6762e-02,  1.0376e-02,  2.8082e-02,  2.9104e-02,  2.7093e-02,\n",
       "         3.9655e-02,  4.3679e-02,  1.5300e-02, -1.8790e-03, -4.5233e-03,\n",
       "        -7.2725e-04, -2.4190e-04, -2.7612e-08,  2.5736e-04, -2.2114e-03,\n",
       "        -2.1475e-02, -9.2614e-03,  5.3169e-02,  9.7980e-02,  1.1903e-01,\n",
       "         1.3856e-01,  1.6806e-01,  1.4757e-01,  5.8424e-02, -3.3782e-02,\n",
       "        -9.0288e-02, -8.1572e-02, -4.5514e-02, -1.0515e-03,  2.3498e-02,\n",
       "         1.6483e-02,  4.9294e-03,  6.6212e-03,  1.7641e-02,  1.2275e-02,\n",
       "        -7.8058e-03, -8.4761e-03, -3.8714e-03, -6.7936e-04, -7.7079e-05,\n",
       "         0.0000e+00,  6.7239e-04, -1.6023e-03, -1.8213e-02, -1.0650e-02,\n",
       "         3.8960e-02,  7.0500e-02,  8.9720e-02,  1.0779e-01,  1.4824e-01,\n",
       "         1.7079e-01,  1.2723e-01,  5.6257e-02,  6.3484e-03, -7.1616e-03,\n",
       "         1.0799e-02,  1.0376e-02,  5.9056e-03, -1.7598e-02, -2.4078e-02,\n",
       "        -1.3779e-02, -4.7412e-03, -1.4869e-02, -1.9096e-02, -1.0306e-02,\n",
       "        -2.6574e-03, -3.4230e-04, -6.6492e-06, -1.3252e-08, -2.1258e-05,\n",
       "        -1.6701e-03, -1.2829e-02, -1.3113e-02,  2.1277e-02,  5.1869e-02,\n",
       "         6.9916e-02,  8.3301e-02,  1.2287e-01,  1.6297e-01,  1.6242e-01,\n",
       "         1.0483e-01,  5.6386e-02,  3.8738e-02,  3.1227e-02,  1.1252e-02,\n",
       "        -1.8026e-02, -2.8034e-02, -3.5530e-02, -2.7319e-02, -2.6620e-02,\n",
       "        -2.5524e-02, -1.5616e-02, -6.2131e-03, -1.2245e-03,  4.4414e-04,\n",
       "         1.7400e-05, -1.2838e-08, -5.1949e-07, -9.4237e-04, -7.0591e-03,\n",
       "        -1.8700e-02,  1.7920e-03,  3.6239e-02,  5.8634e-02,  8.9395e-02,\n",
       "         1.1566e-01,  1.4471e-01,  1.7433e-01,  1.6152e-01,  1.4612e-01,\n",
       "         1.0495e-01,  6.6529e-02,  2.4255e-02, -1.0304e-02, -3.6980e-02,\n",
       "        -4.3045e-02, -4.5145e-02, -3.6503e-02, -2.0168e-02, -8.7050e-03,\n",
       "        -2.9432e-03, -4.7734e-04,  2.9823e-05,  3.2123e-05,  0.0000e+00,\n",
       "         0.0000e+00, -2.7613e-04, -2.4373e-03, -1.2686e-02, -1.0892e-02,\n",
       "         6.1286e-04,  2.2993e-02,  4.6783e-02,  8.3217e-02,  1.1614e-01,\n",
       "         1.4733e-01,  1.5647e-01,  1.3435e-01,  9.3989e-02,  4.2480e-02,\n",
       "        -8.0351e-03, -3.4401e-02, -5.5918e-02, -5.7248e-02, -4.6894e-02,\n",
       "        -2.8201e-02, -1.3350e-02, -4.8399e-03, -1.0787e-03, -1.7620e-04,\n",
       "        -9.7630e-05,  0.0000e+00,  0.0000e+00,  0.0000e+00, -1.8690e-04,\n",
       "        -5.1628e-04, -3.3982e-03, -8.0721e-03, -1.4364e-02, -2.4236e-02,\n",
       "        -2.5474e-02, -2.7752e-02, -2.0191e-02, -1.6152e-02, -3.2644e-03,\n",
       "        -7.1870e-03, -2.2179e-02, -3.9260e-02, -5.4602e-02, -5.6402e-02,\n",
       "        -5.2187e-02, -4.0858e-02, -2.9109e-02, -1.8569e-02, -8.9096e-03,\n",
       "        -3.0278e-03, -6.4391e-04, -7.3559e-05, -1.6040e-05,  0.0000e+00,\n",
       "         0.0000e+00,  0.0000e+00, -7.3253e-06, -9.5169e-05, -9.2922e-04,\n",
       "        -3.7255e-03, -8.7427e-03, -1.7026e-02, -2.7947e-02, -4.0987e-02,\n",
       "        -5.3080e-02, -5.7784e-02, -6.3228e-02, -6.1368e-02, -5.9274e-02,\n",
       "        -5.3937e-02, -4.8012e-02, -4.1286e-02, -3.0299e-02, -1.9733e-02,\n",
       "        -1.4123e-02, -9.0733e-03, -4.0337e-03, -1.4964e-03, -4.7805e-04,\n",
       "        -1.6212e-05, -1.6891e-05,  0.0000e+00,  0.0000e+00,  0.0000e+00,\n",
       "         0.0000e+00, -1.4596e-06, -1.0928e-04, -1.3760e-03, -2.6544e-03,\n",
       "        -4.8684e-03, -8.4924e-03, -1.3541e-02, -1.5241e-02, -1.6581e-02,\n",
       "        -1.6705e-02, -1.8950e-02, -2.0229e-02, -1.8473e-02, -1.6119e-02,\n",
       "        -1.3506e-02, -1.0361e-02, -5.8268e-03, -4.3198e-03, -3.5093e-03,\n",
       "        -1.8090e-03, -3.5816e-04, -1.2601e-05, -4.9942e-07,  0.0000e+00,\n",
       "         0.0000e+00,  0.0000e+00,  0.0000e+00,  0.0000e+00,  0.0000e+00,\n",
       "        -3.7633e-06, -5.9911e-05, -9.5271e-05, -1.8539e-04, -3.4663e-04,\n",
       "        -7.4237e-04, -9.5049e-04, -1.3629e-03, -2.0076e-03, -2.7510e-03,\n",
       "        -3.7927e-03, -3.6283e-03, -3.1262e-03, -2.3084e-03, -1.9838e-03,\n",
       "        -1.0343e-03, -7.2048e-04, -6.5319e-04, -1.3170e-03, -2.7817e-04,\n",
       "         0.0000e+00,  0.0000e+00,  0.0000e+00,  0.0000e+00])"
      ]
     },
     "metadata": {},
     "output_type": "display_data"
    }
   ],
   "source": [
    "W[:, 0]"
   ]
  },
  {
   "cell_type": "code",
   "execution_count": null,
   "metadata": {},
   "outputs": [
    {
     "data": {
      "text/plain": [
       "<matplotlib.image.AxesImage at 0x7fdc72563250>"
      ]
     },
     "metadata": {},
     "output_type": "display_data"
    },
    {
     "data": {
      "image/png": "[encoded data removed]",
      "text/plain": [
       "<Figure size 432x288 with 1 Axes>"
      ]
     },
     "metadata": {},
     "output_type": "display_data"
    }
   ],
   "source": [
    "plt.imshow(W[:, 0].reshape(28, 28))"
   ]
  },
  {
   "cell_type": "code",
   "execution_count": null,
   "metadata": {},
   "outputs": [
    {
     "data": {
      "image/png": "[encoded data removed]",
      "text/plain": [
       "<Figure size 576x432 with 10 Axes>"
      ]
     },
     "metadata": {},
     "output_type": "display_data"
    }
   ],
   "source": [
    "show_image_grid(W.reshape(28, 28, 10).permute(2, 0, 1), nrow=4)"
   ]
  }
 ],
 "metadata": {
  "kernelspec": {
   "display_name": "Python 3",
   "language": "python",
   "name": "python3"
  },
  "language_info": {
   "codemirror_mode": {
    "name": "ipython",
    "version": 3
   },
   "file_extension": ".py",
   "mimetype": "text/x-python",
   "name": "python",
   "nbconvert_exporter": "python",
   "pygments_lexer": "ipython3",
   "version": "3.10.12"
  }
 },
 "nbformat": 4,
 "nbformat_minor": 2
}
