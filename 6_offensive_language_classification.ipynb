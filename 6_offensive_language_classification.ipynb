{
  "cells": [
    {
      "cell_type": "markdown",
      "metadata": {
        "colab_type": "text",
        "id": "view-in-github"
      },
      "source": [
        "<a href=\"https://colab.research.google.com/github/oliverguhr/htw-nlp-lecture/blob/master/assignments/transformer/nlp_2_transformer_offensive_language_classification.ipynb\" target=\"_parent\"><img src=\"https://colab.research.google.com/assets/colab-badge.svg\" alt=\"Open In Colab\"/></a>"
      ]
    },
    {
      "cell_type": "markdown",
      "metadata": {
        "id": "1x7ywAcjTMyk"
      },
      "source": [
        "# Offensive Language Classification\n"
      ]
    },
    {
      "cell_type": "code",
      "execution_count": null,
      "metadata": {
        "id": "T6cFhLiDTMyk"
      },
      "outputs": [],
      "source": [
        "!pip install datasets transformers accelerate sentencepiece"
      ]
    },
    {
      "cell_type": "code",
      "execution_count": null,
      "metadata": {
        "id": "lqhVeVEnTMyl"
      },
      "outputs": [],
      "source": [
        "!mkdir data\n",
        "!wget -c https://raw.githubusercontent.com/oliverguhr/htw-nlp-lecture/master/assignments/germeval2018.training.txt -O data/germeval2018.train.txt\n",
        "!wget -c https://raw.githubusercontent.com/oliverguhr/htw-nlp-lecture/master/assignments/germeval2018.test.txt -O data/germeval2018.test.txt"
      ]
    },
    {
      "cell_type": "code",
      "execution_count": null,
      "metadata": {
        "id": "ONd9nMwMTMyl"
      },
      "outputs": [],
      "source": [
        "import pandas as pd\n",
        "import numpy as np"
      ]
    },
    {
      "cell_type": "code",
      "execution_count": null,
      "metadata": {
        "id": "4Ca0b7_IpH1M"
      },
      "outputs": [],
      "source": [
        "# check if we have a GPU\n",
        "!nvidia-smi"
      ]
    },
    {
      "cell_type": "markdown",
      "metadata": {
        "id": "5wCOi_UiTMyl"
      },
      "source": [
        "## Prepairing the data\n",
        "\n",
        "In the next step we have to load the data and adjust it a bit. The data is available in tab delimited csv. Pandas is a good choice for simple processing, but it could also be done with Python board tools."
      ]
    },
    {
      "cell_type": "code",
      "execution_count": null,
      "metadata": {
        "id": "fpvStxVhTMyl"
      },
      "outputs": [],
      "source": [
        "test_df = pd.read_csv(\"./data/germeval2018.test.txt\", sep='\\t', header=0,encoding=\"utf-8\")\n",
        "train_df = pd.read_csv(\"./data/germeval2018.train.txt\", sep='\\t', header=0,encoding=\"utf-8\")"
      ]
    },
    {
      "cell_type": "code",
      "execution_count": null,
      "metadata": {
        "id": "H9CkOlvaTMyl"
      },
      "outputs": [],
      "source": [
        "train_df.head()"
      ]
    },
    {
      "cell_type": "code",
      "execution_count": null,
      "metadata": {
        "id": "W4BsXBCsTMyn"
      },
      "outputs": [],
      "source": [
        "# Since we do not need the label 2 columns, we can delete them.\n",
        "test_df.drop(columns=['label2'], inplace=True)\n",
        "train_df.drop(columns=['label2'], inplace=True)"
      ]
    },
    {
      "cell_type": "code",
      "execution_count": null,
      "metadata": {
        "id": "q4P20Gf_TMyn"
      },
      "outputs": [],
      "source": [
        "def clean_text (text):\n",
        "    #text = text.str.lower() # lowercase\n",
        "    #text = text.str.replace(r\"\\#\",\"\") # replaces hashtags\n",
        "    #text = text.str.replace(r\"http\\S+\",\"URL\")  # remove URL addresses\n",
        "    #text = text.str.replace(r\"@\",\"\")\n",
        "    #text = text.str.replace(r\"[^A-Za-z0-9öäüÖÄÜß()!?]\", \" \")\n",
        "    #text = text.str.replace(\"\\s{2,}\", \" \")\n",
        "    return text\n",
        "\n",
        "def convert_label(label):\n",
        "    return 1 if label == \"OFFENSE\" else 0"
      ]
    },
    {
      "cell_type": "code",
      "execution_count": null,
      "metadata": {
        "id": "p690qluXTMyn"
      },
      "outputs": [],
      "source": [
        "train_df[\"text\"]=clean_text(train_df[\"text\"])\n",
        "test_df[\"text\"]=clean_text(test_df[\"text\"])\n",
        "train_df[\"label\"]=train_df[\"label\"].map(convert_label)\n",
        "test_df[\"label\"]=test_df[\"label\"].map(convert_label)"
      ]
    },
    {
      "cell_type": "code",
      "execution_count": null,
      "metadata": {
        "id": "9BIixoz-TMyn"
      },
      "outputs": [],
      "source": [
        "# this is  how our data set looks now\n",
        "train_df.head() "
      ]
    },
    {
      "cell_type": "code",
      "execution_count": null,
      "metadata": {
        "id": "HeE1qHXhTMyo"
      },
      "outputs": [],
      "source": [
        "len(train_df.loc[train_df[\"label\"]==1])"
      ]
    },
    {
      "cell_type": "code",
      "execution_count": null,
      "metadata": {
        "id": "XYIke-q7Oqfz"
      },
      "outputs": [],
      "source": [
        "from sklearn.utils import shuffle\n",
        "train_df = shuffle(train_df)"
      ]
    },
    {
      "cell_type": "markdown",
      "metadata": {
        "id": "T1_tIVzLTMyo"
      },
      "source": [
        "How many datasets do we have in our Train/Valid/Test sets?"
      ]
    },
    {
      "cell_type": "code",
      "execution_count": null,
      "metadata": {
        "id": "6rCCzWaJTMyo"
      },
      "outputs": [],
      "source": [
        "print(f\"Test exampels \\t {len(test_df) }\")\n",
        "print(f\"Train exampels \\t {len(train_df[500:])}\")\n",
        "print(f\"Valid exampels \\t {len(train_df[:500])}\")"
      ]
    },
    {
      "cell_type": "markdown",
      "metadata": {
        "id": "ObJ7KjhYDxCX"
      },
      "source": [
        "In the next step we convert the data in a format that our ml lib can use."
      ]
    },
    {
      "cell_type": "code",
      "execution_count": null,
      "metadata": {
        "id": "5zRn0t3oTMyp"
      },
      "outputs": [],
      "source": [
        "from datasets import Dataset\n",
        "\n",
        "train_dataset = Dataset.from_pandas(train_df)\n",
        "test_dataset = Dataset.from_pandas(test_df)"
      ]
    },
    {
      "cell_type": "code",
      "execution_count": null,
      "metadata": {
        "id": "2qt9p2yeTMyp"
      },
      "outputs": [],
      "source": [
        "# What is the shape of our dataset?\n",
        "train_dataset"
      ]
    },
    {
      "cell_type": "markdown",
      "metadata": {
        "id": "fUhmAob8TMyp"
      },
      "source": [
        "## Encoding of the data \n",
        "\n",
        "We convert our texts into token that our model can process."
      ]
    },
    {
      "cell_type": "code",
      "execution_count": null,
      "metadata": {
        "id": "jxDv4WeXTMyp"
      },
      "outputs": [],
      "source": [
        "from transformers import AutoTokenizer\n",
        "from datasets import load_dataset, load_metric, list_metrics\n",
        "\n",
        "\n",
        "# try out different models :) \n",
        "\n",
        "model_checkpoint =\"distilbert-base-multilingual-cased\"\n",
        "\n",
        "tokenizer = AutoTokenizer.from_pretrained(model_checkpoint)"
      ]
    },
    {
      "cell_type": "code",
      "execution_count": null,
      "metadata": {
        "id": "ZFuavLu5UlwZ"
      },
      "outputs": [],
      "source": [
        "!rm -rf ./test-offsive-language/checkpoint*"
      ]
    },
    {
      "cell_type": "code",
      "execution_count": null,
      "metadata": {
        "id": "ZkNiW-kITMyp"
      },
      "outputs": [],
      "source": [
        "demo_tokens = tokenizer([\"Mehr Daten führen oftmals zu besseren Ergebnissen.\", \"And this is a second sentence\"],add_special_tokens=True, truncation=True)\n",
        "demo_tokens"
      ]
    },
    {
      "cell_type": "code",
      "execution_count": null,
      "metadata": {
        "id": "tjSb3j1RTMyp"
      },
      "outputs": [],
      "source": [
        "tokenizer.convert_ids_to_tokens(demo_tokens['input_ids'][0])"
      ]
    },
    {
      "cell_type": "code",
      "execution_count": null,
      "metadata": {
        "id": "2CBg2qhVTMyp"
      },
      "outputs": [],
      "source": [
        "def example_tokenizer(examples):\n",
        "    return tokenizer(examples[\"text\"], truncation=True,padding=True)"
      ]
    },
    {
      "cell_type": "code",
      "execution_count": null,
      "metadata": {
        "id": "tWghamclTMyp"
      },
      "outputs": [],
      "source": [
        "encoded_train_dataset = train_dataset.map(example_tokenizer, batched=True)\n",
        "encoded_test_dataset = test_dataset.map(example_tokenizer, batched=True)"
      ]
    },
    {
      "cell_type": "markdown",
      "metadata": {
        "id": "xhkxSIVLTMyq"
      },
      "source": [
        "## The training \\o/\n",
        "\n",
        "Now we can train our model. To do this, we need to define a number of settings (hyperparameters):"
      ]
    },
    {
      "cell_type": "code",
      "execution_count": null,
      "metadata": {
        "id": "X4DtlapiTMyq"
      },
      "outputs": [],
      "source": [
        "from transformers import AutoModelForSequenceClassification, TrainingArguments, Trainer\n",
        "\n",
        "model = AutoModelForSequenceClassification.from_pretrained(model_checkpoint, num_labels=2)\n",
        "\n",
        "batch_size = 16\n",
        "\n",
        "args = TrainingArguments(\n",
        "    \"test-offsive-language\",\n",
        "    evaluation_strategy = \"steps\",\n",
        "    save_strategy= \"steps\",\n",
        "    learning_rate=4e-5,\n",
        "    per_device_train_batch_size=batch_size,\n",
        "    per_device_eval_batch_size=batch_size*4,\n",
        "    gradient_accumulation_steps=4,\n",
        "    num_train_epochs=2,\n",
        "    eval_steps=0.2,\n",
        "    save_steps=0.2,\n",
        "    warmup_steps=50,\n",
        "    logging_steps=10,\n",
        "    load_best_model_at_end=True,\n",
        "    overwrite_output_dir=True,\n",
        "    metric_for_best_model=\"f1\",\n",
        "    save_total_limit=2,    \n",
        "    bf16=True    \n",
        ")"
      ]
    },
    {
      "cell_type": "code",
      "execution_count": null,
      "metadata": {
        "id": "Rh_wjh5TKhY8"
      },
      "outputs": [],
      "source": [
        "from sklearn.metrics import accuracy_score, f1_score\n",
        "\n",
        "def compute_metrics(pred):\n",
        "  labels = pred.label_ids\n",
        "  preds = pred.predictions.argmax(-1)\n",
        "  f1 = f1_score(labels, preds, average=\"macro\")\n",
        "  acc = accuracy_score(labels, preds)\n",
        "  return {\"accuracy\": acc, \"f1\": f1}"
      ]
    },
    {
      "cell_type": "code",
      "execution_count": null,
      "metadata": {
        "id": "g0v5GJXmTMyq"
      },
      "outputs": [],
      "source": [
        "trainer = Trainer(\n",
        "    model,\n",
        "    args,\n",
        "    train_dataset=encoded_train_dataset,\n",
        "    eval_dataset=encoded_test_dataset,        \n",
        "    tokenizer=tokenizer,\n",
        "    compute_metrics=compute_metrics\n",
        ")"
      ]
    },
    {
      "cell_type": "code",
      "execution_count": null,
      "metadata": {
        "id": "y_lUSvpDTMyq"
      },
      "outputs": [],
      "source": [
        "trainer.train()"
      ]
    },
    {
      "cell_type": "code",
      "execution_count": null,
      "metadata": {
        "id": "-w-nuYI8TMyr"
      },
      "outputs": [],
      "source": [
        "#tensorboard --logdir runs\n",
        "%load_ext tensorboard\n",
        "#%reload_ext tensorboard\n",
        "%tensorboard --logdir /content/test-offsive-language/runs"
      ]
    },
    {
      "cell_type": "markdown",
      "metadata": {
        "id": "tv-PghAYTMyr"
      },
      "source": [
        "## Testing the model\n",
        "\n",
        "The next step is to test the model with the provided test data."
      ]
    },
    {
      "cell_type": "code",
      "execution_count": null,
      "metadata": {
        "id": "jYI9LEbvTMyr"
      },
      "outputs": [],
      "source": [
        "result = trainer.predict(encoded_test_dataset)\n",
        "result.metrics[\"test_f1\"]"
      ]
    },
    {
      "cell_type": "code",
      "execution_count": null,
      "metadata": {
        "id": "YiYw4kS3TMyr"
      },
      "outputs": [],
      "source": [
        "import torch\n",
        "\n",
        "#trainer.prediction_step(trainer.model,tokenizer(\"das ist ein test\"),False)\n",
        "trainer.model.cpu()\n",
        "#trainer.model.num_parameters()\n",
        "encoded_texts = tokenizer([\"du bist so dumm\", \"du bist toll\"],padding=True, return_tensors=\"pt\")\n",
        "print(encoded_texts)\n",
        "logits = trainer.model(**encoded_texts)\n",
        "probabilities = torch.softmax(logits[0],dim=1)\n",
        "print(probabilities)\n",
        "class_label = torch.argmax(probabilities,dim=1)\n",
        "print(class_label)"
      ]
    },
    {
      "cell_type": "markdown",
      "metadata": {
        "id": "ylTzH9P8uu-8"
      },
      "source": [
        "How can we predict a sigle test example and how long does it take on a cpu?"
      ]
    },
    {
      "cell_type": "code",
      "execution_count": null,
      "metadata": {
        "id": "_eyM790HTMyr"
      },
      "outputs": [],
      "source": [
        "def predict(text):\n",
        "    trainer.model.cpu()\n",
        "    #trainer.model.num_parameters()\n",
        "    encoded_texts = tokenizer(text, return_tensors=\"pt\")\n",
        "    #print(encoded_texts)\n",
        "    logits = trainer.model(**encoded_texts)\n",
        "    probabilities = torch.softmax(logits[0],dim=1)\n",
        "    #print(probabilities)\n",
        "    class_label = torch.argmax(probabilities)\n",
        "    return class_label\n",
        "    #print(class_label)\n",
        "\n",
        "%timeit predict(\"du bist so toll\")\n",
        "\n"
      ]
    },
    {
      "cell_type": "markdown",
      "metadata": {
        "id": "lsL5FUdTTMys"
      },
      "source": [
        "# Tutorial:\n",
        "\n",
        "Our results are already quite good - but we can still improve the results.  First get familiar with the notebook - change a few parameters like learning rate and number of epochs and see how they change the results. \n",
        "\n",
        "**Your task is to improve the classification score.**\n",
        "\n",
        "Here are some ideas how you can improve the score.\n",
        "\n",
        "* Test different models. The [Model Hub](https://huggingface.co/models) lists a number of German models with which you can improve the results. \n",
        "\n",
        "* About 5000 sampels in the data set are comparatively few for this problem. You may find more data sets that you can add to the current training data set.\n",
        "\n",
        "* A number of multilingual models are available in the [Model Hub](https://huggingface.co/models). These models have been trained with different languages. You could also try adding English to the German dataset to train a multilingual model. This may also be better on the German data. \n",
        "\n",
        "Data augmentation is a procedure to create new data sets by modifying existing data sets. It is important that the statement does not change (the class remains the same).\n",
        "\n",
        "* You can replace synonyms words and thus generate new data sets. An example:\n",
        "\n",
        "> \"Can you still believe all this crap?\" -> \"Can you still believe all this crap?\"\n",
        "\n",
        "* Everything is allowed here. Try translating texts from German to English and back to German. If the meaning is preserved, the result can also be used for training. A small example with Google Translate:\n",
        "\n",
        "> Deutsch: \"Kann man diesen ganzen Scheiß noch glauben?\" \n",
        "\n",
        "> Englisch: \"Can you still believe all this shit?\"\n",
        "\n",
        "> Deutsch: \"Kannst du all diese Scheiße noch glauben?\"\n",
        "\n",
        "\n"
      ]
    }
  ],
  "metadata": {
    "accelerator": "GPU",
    "colab": {
      "include_colab_link": true,
      "name": "nlp-2-transformer-offensive-language-classification.ipynb",
      "private_outputs": true,
      "provenance": []
    },
    "kernelspec": {
      "display_name": "Python 3",
      "language": "python",
      "name": "python3"
    },
    "language_info": {
      "codemirror_mode": {
        "name": "ipython",
        "version": 3
      },
      "file_extension": ".py",
      "mimetype": "text/x-python",
      "name": "python",
      "nbconvert_exporter": "python",
      "pygments_lexer": "ipython3",
      "version": "3.10.12"
    }
  },
  "nbformat": 4,
  "nbformat_minor": 0
}
